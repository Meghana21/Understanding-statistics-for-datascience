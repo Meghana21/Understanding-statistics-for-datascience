{
 "cells": [
  {
   "cell_type": "code",
   "execution_count": 60,
   "metadata": {},
   "outputs": [],
   "source": [
    "import numpy as np\n",
    "import pandas as pd\n",
    "import seaborn as sns\n",
    "import matplotlib.pyplot as plt"
   ]
  },
  {
   "cell_type": "markdown",
   "metadata": {},
   "source": [
    "## MEASURES OF CENTRAL TENDENCY"
   ]
  },
  {
   "cell_type": "markdown",
   "metadata": {},
   "source": [
    "#### Question : What single number best represents our data?\n",
    "\n",
    "#### Answer : The most representative number , is going to be some measure of central tendency."
   ]
  },
  {
   "cell_type": "markdown",
   "metadata": {},
   "source": [
    "A big sample of raw data is sometimes difficult to understand, so a measure of central tendency gives us a single number that describes an entire dataset."
   ]
  },
  {
   "cell_type": "markdown",
   "metadata": {},
   "source": [
    "A measure of central tendency is therefore a single value that attempts to describe a set of data by identifying the central position within that set of data. As such, measures of central tendency are sometimes called measures of central location. They are also classed as summary statistics. \n",
    "\n",
    "\n",
    "\n",
    "\n",
    "Definitions :-\n",
    "\n",
    "1. Median is that parameter of the data , where half of the data points are found on its left side and half on its right side. \n",
    "\n",
    "\n",
    "2. Mean represents that value of the data , which is the average of all the individual datapoints  in the data.\n",
    "\n",
    "\n",
    "3. Mode, represents that value that has occured highest number of times in the data.\n",
    "\n",
    "\n",
    "\n",
    "\n",
    "\n",
    "Examples :- \n",
    "\n",
    "1. if we say that the average weight of students in a  school is 60kg, we are actually describing that most of the students in the school weigh around 60kg, so the entire school related data is described by considering one value ( majority of the students).\n",
    "\n",
    "\n",
    "2. If we say that the median weight is 66kg, we are saying that there are as many number of students weighing less than or equal to 66 as many as those weighing greater than equal to 66. 66kg is therefore the middle ground and we described the entire school data w.r.t this value.\n",
    "\n",
    "\n",
    "3. If we say mode is 55kg, then it means that the students weighing 55kg are more than students weighing other weights. So the entire school data is again explained through this one value mode."
   ]
  },
  {
   "cell_type": "code",
   "execution_count": 150,
   "metadata": {},
   "outputs": [],
   "source": [
    "slr_marks = [68,67,69,70,69,68,67,68,68,68,69,69,70,70,70,70,33,10]\n",
    "roll_number = np.arange(1,len(slr_marks)+1)\n",
    "marks = {'Roll Number':roll_number,'marks':slr_marks}"
   ]
  },
  {
   "cell_type": "code",
   "execution_count": 151,
   "metadata": {},
   "outputs": [
    {
     "data": {
      "text/html": [
       "<div>\n",
       "<style scoped>\n",
       "    .dataframe tbody tr th:only-of-type {\n",
       "        vertical-align: middle;\n",
       "    }\n",
       "\n",
       "    .dataframe tbody tr th {\n",
       "        vertical-align: top;\n",
       "    }\n",
       "\n",
       "    .dataframe thead th {\n",
       "        text-align: right;\n",
       "    }\n",
       "</style>\n",
       "<table border=\"1\" class=\"dataframe\">\n",
       "  <thead>\n",
       "    <tr style=\"text-align: right;\">\n",
       "      <th></th>\n",
       "      <th>Roll Number</th>\n",
       "      <th>marks</th>\n",
       "    </tr>\n",
       "  </thead>\n",
       "  <tbody>\n",
       "    <tr>\n",
       "      <td>0</td>\n",
       "      <td>1</td>\n",
       "      <td>68</td>\n",
       "    </tr>\n",
       "    <tr>\n",
       "      <td>1</td>\n",
       "      <td>2</td>\n",
       "      <td>67</td>\n",
       "    </tr>\n",
       "    <tr>\n",
       "      <td>2</td>\n",
       "      <td>3</td>\n",
       "      <td>69</td>\n",
       "    </tr>\n",
       "    <tr>\n",
       "      <td>3</td>\n",
       "      <td>4</td>\n",
       "      <td>70</td>\n",
       "    </tr>\n",
       "    <tr>\n",
       "      <td>4</td>\n",
       "      <td>5</td>\n",
       "      <td>69</td>\n",
       "    </tr>\n",
       "  </tbody>\n",
       "</table>\n",
       "</div>"
      ],
      "text/plain": [
       "   Roll Number  marks\n",
       "0            1     68\n",
       "1            2     67\n",
       "2            3     69\n",
       "3            4     70\n",
       "4            5     69"
      ]
     },
     "execution_count": 151,
     "metadata": {},
     "output_type": "execute_result"
    }
   ],
   "source": [
    "left_skewed_data = pd.DataFrame(marks)\n",
    "left_skewed_data.head()"
   ]
  },
  {
   "cell_type": "code",
   "execution_count": 147,
   "metadata": {},
   "outputs": [],
   "source": [
    "slr_marks = [48,47,49,50,49,48,47,48,48,48,49,49,50,50,50,50,48,80,120]\n",
    "roll_number = np.arange(1,len(slr_marks)+1)\n",
    "marks = {'Roll Number':roll_number,'marks':slr_marks}"
   ]
  },
  {
   "cell_type": "code",
   "execution_count": 148,
   "metadata": {},
   "outputs": [
    {
     "data": {
      "text/html": [
       "<div>\n",
       "<style scoped>\n",
       "    .dataframe tbody tr th:only-of-type {\n",
       "        vertical-align: middle;\n",
       "    }\n",
       "\n",
       "    .dataframe tbody tr th {\n",
       "        vertical-align: top;\n",
       "    }\n",
       "\n",
       "    .dataframe thead th {\n",
       "        text-align: right;\n",
       "    }\n",
       "</style>\n",
       "<table border=\"1\" class=\"dataframe\">\n",
       "  <thead>\n",
       "    <tr style=\"text-align: right;\">\n",
       "      <th></th>\n",
       "      <th>Roll Number</th>\n",
       "      <th>marks</th>\n",
       "    </tr>\n",
       "  </thead>\n",
       "  <tbody>\n",
       "    <tr>\n",
       "      <td>0</td>\n",
       "      <td>1</td>\n",
       "      <td>48</td>\n",
       "    </tr>\n",
       "    <tr>\n",
       "      <td>1</td>\n",
       "      <td>2</td>\n",
       "      <td>47</td>\n",
       "    </tr>\n",
       "    <tr>\n",
       "      <td>2</td>\n",
       "      <td>3</td>\n",
       "      <td>49</td>\n",
       "    </tr>\n",
       "    <tr>\n",
       "      <td>3</td>\n",
       "      <td>4</td>\n",
       "      <td>50</td>\n",
       "    </tr>\n",
       "    <tr>\n",
       "      <td>4</td>\n",
       "      <td>5</td>\n",
       "      <td>49</td>\n",
       "    </tr>\n",
       "  </tbody>\n",
       "</table>\n",
       "</div>"
      ],
      "text/plain": [
       "   Roll Number  marks\n",
       "0            1     48\n",
       "1            2     47\n",
       "2            3     49\n",
       "3            4     50\n",
       "4            5     49"
      ]
     },
     "execution_count": 148,
     "metadata": {},
     "output_type": "execute_result"
    }
   ],
   "source": [
    "right_skewed_data = pd.DataFrame(marks)\n",
    "right_skewed_data.head()"
   ]
  },
  {
   "cell_type": "code",
   "execution_count": 120,
   "metadata": {},
   "outputs": [],
   "source": [
    "slrmarks = []\n",
    "\n",
    "for i in range(30,91):\n",
    "    slrmarks.append(i)"
   ]
  },
  {
   "cell_type": "code",
   "execution_count": 121,
   "metadata": {},
   "outputs": [
    {
     "data": {
      "text/plain": [
       "60.0"
      ]
     },
     "execution_count": 121,
     "metadata": {},
     "output_type": "execute_result"
    }
   ],
   "source": [
    "np.mean(slrmarks)"
   ]
  },
  {
   "cell_type": "code",
   "execution_count": 122,
   "metadata": {},
   "outputs": [
    {
     "data": {
      "text/html": [
       "<div>\n",
       "<style scoped>\n",
       "    .dataframe tbody tr th:only-of-type {\n",
       "        vertical-align: middle;\n",
       "    }\n",
       "\n",
       "    .dataframe tbody tr th {\n",
       "        vertical-align: top;\n",
       "    }\n",
       "\n",
       "    .dataframe thead th {\n",
       "        text-align: right;\n",
       "    }\n",
       "</style>\n",
       "<table border=\"1\" class=\"dataframe\">\n",
       "  <thead>\n",
       "    <tr style=\"text-align: right;\">\n",
       "      <th></th>\n",
       "      <th>rollnumber</th>\n",
       "      <th>marks</th>\n",
       "    </tr>\n",
       "  </thead>\n",
       "  <tbody>\n",
       "    <tr>\n",
       "      <td>0</td>\n",
       "      <td>1</td>\n",
       "      <td>30</td>\n",
       "    </tr>\n",
       "    <tr>\n",
       "      <td>1</td>\n",
       "      <td>2</td>\n",
       "      <td>31</td>\n",
       "    </tr>\n",
       "    <tr>\n",
       "      <td>2</td>\n",
       "      <td>3</td>\n",
       "      <td>32</td>\n",
       "    </tr>\n",
       "    <tr>\n",
       "      <td>3</td>\n",
       "      <td>4</td>\n",
       "      <td>33</td>\n",
       "    </tr>\n",
       "    <tr>\n",
       "      <td>4</td>\n",
       "      <td>5</td>\n",
       "      <td>34</td>\n",
       "    </tr>\n",
       "  </tbody>\n",
       "</table>\n",
       "</div>"
      ],
      "text/plain": [
       "   rollnumber  marks\n",
       "0           1     30\n",
       "1           2     31\n",
       "2           3     32\n",
       "3           4     33\n",
       "4           5     34"
      ]
     },
     "execution_count": 122,
     "metadata": {},
     "output_type": "execute_result"
    }
   ],
   "source": [
    "roll = np.arange(1,len(slrmarks)+1)\n",
    "studentdata = {'rollnumber':roll,'marks':slrmarks}\n",
    "normal_data = pd.DataFrame(studentdata)\n",
    "normal_data.head()"
   ]
  },
  {
   "cell_type": "code",
   "execution_count": 156,
   "metadata": {},
   "outputs": [
    {
     "data": {
      "text/plain": [
       "Text(0.5, 1.0, 'Normal data')"
      ]
     },
     "execution_count": 156,
     "metadata": {},
     "output_type": "execute_result"
    },
    {
     "data": {
      "image/png": "[encoded data removed]",
      "text/plain": [
       "<Figure size 1080x504 with 3 Axes>"
      ]
     },
     "metadata": {
      "needs_background": "light"
     },
     "output_type": "display_data"
    }
   ],
   "source": [
    "fig,axes = plt.subplots(1,3,figsize=(15,7))\n",
    "sns.distplot(left_skewed_data['marks'],ax=axes[0],hist=False)\n",
    "sns.distplot(right_skewed_data['marks'],ax=axes[1],hist=False)\n",
    "sns.distplot(normal_data['marks'],ax=axes[2],hist=False)\n",
    "axes[0].set_title('Left Skewed data')\n",
    "axes[1].set_title('Right Skewed data')\n",
    "axes[2].set_title('Normal data')"
   ]
  },
  {
   "cell_type": "markdown",
   "metadata": {},
   "source": [
    "\n",
    "1. SKEWED DATA HAS LONG TAILS.\n",
    "\n",
    "\n",
    "2. LONG TAILS AND SHORTER CENTRE PART DOESNOT MEAN THAT MORE VALUES ARE THERE IN THE TAILS, IT TALKS ONLY ABOUT THE EXTREME MAGNITUDES OF THE EXTREME VALUES REPRESENTED BY A TAIL.\n",
    "\n",
    "\n",
    "3. IN NORMALLY DISTRIBUTED DATA OR SKEWED DATA , THE DATA THAT LIES AROUND THE MEAN CONSTITUTES MAJORITY OF THE DATA (In a standard normal distribution, 68% of the data lies around the mean/average value).\n",
    "\n",
    "\n",
    "4. THEREFORE WE CAN CONCLUDE THAT IN A CONTINUOUS DISTRIBUTION, MAJORITY OF THE DATA LIES AROUND THE MEAN, I.E., THE CENTRAL PART OF THE DISTRIBUTION.\n",
    "\n",
    "\n",
    "5. THE TAIL PART OF THE DISTRIBUTION REPRESENTS HIGH VARIANCE ZONE.\n",
    "\n",
    "\n",
    "6. THE CENTRE PART OF THE DISTRIBUTION WHERE THE MAJORITY OF DATA LIES REPRESENTS THE LOW VARIANCE ZONE."
   ]
  },
  {
   "cell_type": "code",
   "execution_count": 35,
   "metadata": {},
   "outputs": [],
   "source": [
    "slr_marks1 = [68.1,68.09,68.08,68.07,68.05,68.06,68.2,68.3,68,68,68.09,68.07,68.09,68.07,69,68.05,68,55,51,56,54,44,43]"
   ]
  },
  {
   "cell_type": "code",
   "execution_count": 157,
   "metadata": {},
   "outputs": [
    {
     "data": {
      "text/plain": [
       "<matplotlib.axes._subplots.AxesSubplot at 0x1a1f7fca90>"
      ]
     },
     "execution_count": 157,
     "metadata": {},
     "output_type": "execute_result"
    },
    {
     "data": {
      "image/png": "[encoded data removed]",
      "text/plain": [
       "<Figure size 432x288 with 1 Axes>"
      ]
     },
     "metadata": {
      "needs_background": "light"
     },
     "output_type": "display_data"
    }
   ],
   "source": [
    "sns.distplot(slr_marks1,hist=False)"
   ]
  },
  {
   "cell_type": "markdown",
   "metadata": {},
   "source": [
    "IT IS NOT TRUE TO SAY :-\n",
    "\n",
    " \"  IN CONTINUOUS DISTRIBUTIONS , WIDER CENTRAL PART HAS MORE DATA COVERED THAN NARROWER CENTRAL PART.\"\n",
    " \n",
    "RATHER WHAT IT MEANS IS THAT , WIDER CENTRAL PART HAS DATAPOINTS WIDELY SPACED AROUND THE MEAN, SHOWING HIGH VARIANCE COMPARED TO NAROWER CENTRAL PART WHERE THE DATAPOINTS ARE CLOSELY SPACED AROUND THE MEAN WHICH SHOWS LESS VARIANCE.\n",
    "\n",
    "ITS ABOUT THE VARIANCE (SPREAD), BUT NOT ABOUT THE PERCENTAGE OF DATA COVERED."
   ]
  },
  {
   "cell_type": "markdown",
   "metadata": {},
   "source": [
    "1. In right skewed data, mean > median > mode\n",
    "2. In left skewed data, mean < median < mode"
   ]
  },
  {
   "cell_type": "markdown",
   "metadata": {},
   "source": [
    "### What if we have equal amount of data for the otherwise central and extreme parts(tail part), how is the distribution going to look like?"
   ]
  },
  {
   "cell_type": "code",
   "execution_count": 174,
   "metadata": {},
   "outputs": [],
   "source": [
    "# let's create that data\n",
    "\n",
    "dummy = [68,67,69,70,69,68,67,68,68,68,69,69,70,70,70,70,68,35,33,26,14,12,13,37,44,23,22,27,11,38,48,28,29,21]\n"
   ]
  },
  {
   "cell_type": "code",
   "execution_count": 175,
   "metadata": {},
   "outputs": [
    {
     "data": {
      "text/plain": [
       "<matplotlib.axes._subplots.AxesSubplot at 0x1a1fd5f150>"
      ]
     },
     "execution_count": 175,
     "metadata": {},
     "output_type": "execute_result"
    },
    {
     "data": {
      "image/png": "[encoded data removed]",
      "text/plain": [
       "<Figure size 432x288 with 1 Axes>"
      ]
     },
     "metadata": {
      "needs_background": "light"
     },
     "output_type": "display_data"
    }
   ],
   "source": [
    "sns.distplot(dummy,hist=False)"
   ]
  },
  {
   "cell_type": "markdown",
   "metadata": {},
   "source": [
    "If we have equal amount of data for the otherwise central and extreme values, then we will be getting 2 peaks that will capture the pattern exhibited by both the groups.We, therefore will get two centres in our data (no concept of centre and extremes anymore).\n",
    "\n",
    "From this we are clear that the very formation of the middle parts in a distribution happens only w.r.t majority data, the range of the central part represents that range within which majority of the data lies."
   ]
  },
  {
   "cell_type": "markdown",
   "metadata": {},
   "source": [
    "### What are the values of mean , median, mode, if a distribution (representing a set of data points) have two peaks or 2 dominant groups? How is a single value going to represent an entire data of this charecteristic ?"
   ]
  },
  {
   "cell_type": "code",
   "execution_count": 273,
   "metadata": {},
   "outputs": [
    {
     "data": {
      "text/plain": [
       "47.911764705882355"
      ]
     },
     "execution_count": 273,
     "metadata": {},
     "output_type": "execute_result"
    }
   ],
   "source": [
    "np.mean(dummy)"
   ]
  },
  {
   "cell_type": "code",
   "execution_count": 274,
   "metadata": {},
   "outputs": [
    {
     "data": {
      "text/plain": [
       "57.5"
      ]
     },
     "execution_count": 274,
     "metadata": {},
     "output_type": "execute_result"
    }
   ],
   "source": [
    "np.median(dummy)"
   ]
  },
  {
   "cell_type": "code",
   "execution_count": 275,
   "metadata": {},
   "outputs": [],
   "source": [
    "dummy_data = pd.DataFrame(dummy,columns=['data'])"
   ]
  },
  {
   "cell_type": "code",
   "execution_count": 276,
   "metadata": {},
   "outputs": [
    {
     "data": {
      "text/html": [
       "<div>\n",
       "<style scoped>\n",
       "    .dataframe tbody tr th:only-of-type {\n",
       "        vertical-align: middle;\n",
       "    }\n",
       "\n",
       "    .dataframe tbody tr th {\n",
       "        vertical-align: top;\n",
       "    }\n",
       "\n",
       "    .dataframe thead th {\n",
       "        text-align: right;\n",
       "    }\n",
       "</style>\n",
       "<table border=\"1\" class=\"dataframe\">\n",
       "  <thead>\n",
       "    <tr style=\"text-align: right;\">\n",
       "      <th></th>\n",
       "      <th>data</th>\n",
       "    </tr>\n",
       "  </thead>\n",
       "  <tbody>\n",
       "    <tr>\n",
       "      <td>count</td>\n",
       "      <td>34.000000</td>\n",
       "    </tr>\n",
       "    <tr>\n",
       "      <td>mean</td>\n",
       "      <td>47.911765</td>\n",
       "    </tr>\n",
       "    <tr>\n",
       "      <td>std</td>\n",
       "      <td>22.494939</td>\n",
       "    </tr>\n",
       "    <tr>\n",
       "      <td>min</td>\n",
       "      <td>11.000000</td>\n",
       "    </tr>\n",
       "    <tr>\n",
       "      <td>25%</td>\n",
       "      <td>27.250000</td>\n",
       "    </tr>\n",
       "    <tr>\n",
       "      <td>50%</td>\n",
       "      <td>57.500000</td>\n",
       "    </tr>\n",
       "    <tr>\n",
       "      <td>75%</td>\n",
       "      <td>68.750000</td>\n",
       "    </tr>\n",
       "    <tr>\n",
       "      <td>max</td>\n",
       "      <td>70.000000</td>\n",
       "    </tr>\n",
       "  </tbody>\n",
       "</table>\n",
       "</div>"
      ],
      "text/plain": [
       "            data\n",
       "count  34.000000\n",
       "mean   47.911765\n",
       "std    22.494939\n",
       "min    11.000000\n",
       "25%    27.250000\n",
       "50%    57.500000\n",
       "75%    68.750000\n",
       "max    70.000000"
      ]
     },
     "execution_count": 276,
     "metadata": {},
     "output_type": "execute_result"
    }
   ],
   "source": [
    "dummy_data.describe()"
   ]
  },
  {
   "cell_type": "markdown",
   "metadata": {},
   "source": [
    "The following observations can be made :-\n",
    "\n",
    "1. Even though there are two dominant groups within the data, looking at the summary statistics we can say that, majority of the data lies in the range 27.5-68.75, which is considering a part of both the sub groups.\n",
    "\n",
    "\n",
    "2. The mean value 47.9 is not close to the range of oa particular group but can be considered as the middle value.\n",
    "\n",
    "\n",
    "3. The median 57.5 is the exact middle point which clearly separates the two groups\n",
    "\n",
    "\n",
    "\n",
    "THE MEASURES OF CENTRAL TENDENCY ARE TALKING ABOUT THE ENTIRE DATA AND ARE GIVING A CENTRAL POSITION BASED ON THAT,\n",
    "BUT IF NOT GRAPHICALLY, CONSIDERING SOLELY THE SUMMARY STATISTICS, WE WON'T BE ABLE TO KNOW ABOUT THE 2 SUB-GROUPS EXISTING WITHIN THE DATA\n",
    "\n",
    "\n",
    "\n",
    "WE THEREFORE GOT TO KNOW THAT MEASURES OF CENTRAL TENDENCY ARE THE CHARECTERISTICS RELATED TO THE WHOLE DATA."
   ]
  },
  {
   "cell_type": "markdown",
   "metadata": {},
   "source": [
    "### Why are mean,median,mode called as measures of central tendency?"
   ]
  },
  {
   "cell_type": "markdown",
   "metadata": {},
   "source": [
    "1. MEAN, MEDIAN, MODE are the summary statistics that describe the data.\n",
    "\n",
    "\n",
    "2. A measure of central tendency indicates WHERE the CENTRE or the MIDDLE of the DISTRIBUTION tends to be,it answers the question of whether the scores are GENERALLY HIGH or GENERALLY LOW.\n",
    "\n",
    "\n",
    "3. They tell us what is happening in the middle of the data\n",
    "\n",
    "\n",
    "MEAN, MEDIAN, MODE are therefore called the measures of CENTRAL TENDENCY"
   ]
  },
  {
   "cell_type": "markdown",
   "metadata": {},
   "source": [
    "### Why are the mean,median,mode parameters associated with the central part of the data?"
   ]
  },
  {
   "cell_type": "markdown",
   "metadata": {},
   "source": [
    "1. The statistical parameters mean,median,mode that describe the data, talk about the central part of the data in a distribution.\n",
    "\n",
    "\n",
    "2. They talk about the behaviour of the majority data points, because , in their calculation we consider the direct combination of all the data points, either while finding the sum, or while finding the middle values , or while finding the most frequently occured value.\n",
    "\n",
    "\n",
    "3. Whatever is the charecteristic of the majority of the datapoints in this ENTIRE DATA THAT'S UNDER CONSIDERATION, the statistical parameters will get influenced by those, in the sense the maginitude of their values will be influenced by the range this majority data lies in."
   ]
  },
  {
   "cell_type": "markdown",
   "metadata": {},
   "source": [
    "#### QUESTION 1 :- Why is mode called a measure of central tendency as it might not always get influenced by the majority of the data like below ?"
   ]
  },
  {
   "cell_type": "code",
   "execution_count": 218,
   "metadata": {},
   "outputs": [],
   "source": [
    "# mode\n",
    "li = [89,67,90,55,87,45,51,68,71,44,66,77,100,11,11,11]"
   ]
  },
  {
   "cell_type": "code",
   "execution_count": 221,
   "metadata": {},
   "outputs": [
    {
     "data": {
      "text/plain": [
       "<matplotlib.axes._subplots.AxesSubplot at 0x1a24619cd0>"
      ]
     },
     "execution_count": 221,
     "metadata": {},
     "output_type": "execute_result"
    },
    {
     "data": {
      "image/png": "[encoded data removed]",
      "text/plain": [
       "<Figure size 432x288 with 1 Axes>"
      ]
     },
     "metadata": {
      "needs_background": "light"
     },
     "output_type": "display_data"
    }
   ],
   "source": [
    "sns.distplot(li)"
   ]
  },
  {
   "cell_type": "code",
   "execution_count": 216,
   "metadata": {},
   "outputs": [],
   "source": [
    "df = pd.DataFrame(li,columns=['data'])"
   ]
  },
  {
   "cell_type": "code",
   "execution_count": 217,
   "metadata": {},
   "outputs": [
    {
     "data": {
      "text/html": [
       "<div>\n",
       "<style scoped>\n",
       "    .dataframe tbody tr th:only-of-type {\n",
       "        vertical-align: middle;\n",
       "    }\n",
       "\n",
       "    .dataframe tbody tr th {\n",
       "        vertical-align: top;\n",
       "    }\n",
       "\n",
       "    .dataframe thead th {\n",
       "        text-align: right;\n",
       "    }\n",
       "</style>\n",
       "<table border=\"1\" class=\"dataframe\">\n",
       "  <thead>\n",
       "    <tr style=\"text-align: right;\">\n",
       "      <th></th>\n",
       "      <th>data</th>\n",
       "    </tr>\n",
       "  </thead>\n",
       "  <tbody>\n",
       "    <tr>\n",
       "      <td>count</td>\n",
       "      <td>15.000000</td>\n",
       "    </tr>\n",
       "    <tr>\n",
       "      <td>mean</td>\n",
       "      <td>62.133333</td>\n",
       "    </tr>\n",
       "    <tr>\n",
       "      <td>std</td>\n",
       "      <td>26.658868</td>\n",
       "    </tr>\n",
       "    <tr>\n",
       "      <td>min</td>\n",
       "      <td>11.000000</td>\n",
       "    </tr>\n",
       "    <tr>\n",
       "      <td>25%</td>\n",
       "      <td>48.000000</td>\n",
       "    </tr>\n",
       "    <tr>\n",
       "      <td>50%</td>\n",
       "      <td>67.000000</td>\n",
       "    </tr>\n",
       "    <tr>\n",
       "      <td>75%</td>\n",
       "      <td>82.000000</td>\n",
       "    </tr>\n",
       "    <tr>\n",
       "      <td>max</td>\n",
       "      <td>100.000000</td>\n",
       "    </tr>\n",
       "  </tbody>\n",
       "</table>\n",
       "</div>"
      ],
      "text/plain": [
       "             data\n",
       "count   15.000000\n",
       "mean    62.133333\n",
       "std     26.658868\n",
       "min     11.000000\n",
       "25%     48.000000\n",
       "50%     67.000000\n",
       "75%     82.000000\n",
       "max    100.000000"
      ]
     },
     "execution_count": 217,
     "metadata": {},
     "output_type": "execute_result"
    }
   ],
   "source": [
    "df.describe()"
   ]
  },
  {
   "cell_type": "code",
   "execution_count": 206,
   "metadata": {},
   "outputs": [
    {
     "data": {
      "text/plain": [
       "<matplotlib.axes._subplots.AxesSubplot at 0x1a23d78350>"
      ]
     },
     "execution_count": 206,
     "metadata": {},
     "output_type": "execute_result"
    },
    {
     "data": {
      "image/png": "[encoded data removed]",
      "text/plain": [
       "<Figure size 432x288 with 1 Axes>"
      ]
     },
     "metadata": {
      "needs_background": "light"
     },
     "output_type": "display_data"
    }
   ],
   "source": [
    "sns.distplot(df['data'])"
   ]
  },
  {
   "cell_type": "code",
   "execution_count": 207,
   "metadata": {},
   "outputs": [
    {
     "data": {
      "text/plain": [
       "67.0"
      ]
     },
     "execution_count": 207,
     "metadata": {},
     "output_type": "execute_result"
    }
   ],
   "source": [
    "np.median(df['data'])"
   ]
  },
  {
   "cell_type": "markdown",
   "metadata": {},
   "source": [
    "As we can see above , majority of the data lies in the range 48-82\n",
    "\n",
    "1. The median value 67.5 is in this range , which proves its nature of being a measure of central tendency\n",
    "2. The mean value 63.06 is again within the above range , which proves the same\n",
    "3. Considering the above data, the mode will be 11, which did not get influenced by the central data(majority data)\n",
    "how can we still call it a measure of central tendency?"
   ]
  },
  {
   "cell_type": "markdown",
   "metadata": {},
   "source": [
    "#### QUESTION 2 :- In situations when mean is getting affected , it doesnot potray the right picture, how can we still consider that a measure of central tendency in that situation ?"
   ]
  },
  {
   "cell_type": "code",
   "execution_count": 277,
   "metadata": {},
   "outputs": [],
   "source": [
    "li = [10,100,200,200,400,500,700,600,800,1000,100000,10000000]"
   ]
  },
  {
   "cell_type": "code",
   "execution_count": 278,
   "metadata": {},
   "outputs": [
    {
     "data": {
      "text/plain": [
       "<matplotlib.axes._subplots.AxesSubplot at 0x1a25baf210>"
      ]
     },
     "execution_count": 278,
     "metadata": {},
     "output_type": "execute_result"
    },
    {
     "data": {
      "image/png": "[encoded data removed]",
      "text/plain": [
       "<Figure size 432x288 with 1 Axes>"
      ]
     },
     "metadata": {
      "needs_background": "light"
     },
     "output_type": "display_data"
    }
   ],
   "source": [
    "sns.distplot(li)"
   ]
  },
  {
   "cell_type": "code",
   "execution_count": 279,
   "metadata": {},
   "outputs": [],
   "source": [
    "df1 = pd.DataFrame(li,columns=['data'])"
   ]
  },
  {
   "cell_type": "code",
   "execution_count": 280,
   "metadata": {},
   "outputs": [
    {
     "data": {
      "text/plain": [
       "550.0"
      ]
     },
     "execution_count": 280,
     "metadata": {},
     "output_type": "execute_result"
    }
   ],
   "source": [
    "df1['data'].median()"
   ]
  },
  {
   "cell_type": "code",
   "execution_count": 281,
   "metadata": {},
   "outputs": [
    {
     "data": {
      "text/html": [
       "<div>\n",
       "<style scoped>\n",
       "    .dataframe tbody tr th:only-of-type {\n",
       "        vertical-align: middle;\n",
       "    }\n",
       "\n",
       "    .dataframe tbody tr th {\n",
       "        vertical-align: top;\n",
       "    }\n",
       "\n",
       "    .dataframe thead th {\n",
       "        text-align: right;\n",
       "    }\n",
       "</style>\n",
       "<table border=\"1\" class=\"dataframe\">\n",
       "  <thead>\n",
       "    <tr style=\"text-align: right;\">\n",
       "      <th></th>\n",
       "      <th>data</th>\n",
       "    </tr>\n",
       "  </thead>\n",
       "  <tbody>\n",
       "    <tr>\n",
       "      <td>count</td>\n",
       "      <td>1.200000e+01</td>\n",
       "    </tr>\n",
       "    <tr>\n",
       "      <td>mean</td>\n",
       "      <td>8.420425e+05</td>\n",
       "    </tr>\n",
       "    <tr>\n",
       "      <td>std</td>\n",
       "      <td>2.884151e+06</td>\n",
       "    </tr>\n",
       "    <tr>\n",
       "      <td>min</td>\n",
       "      <td>1.000000e+01</td>\n",
       "    </tr>\n",
       "    <tr>\n",
       "      <td>25%</td>\n",
       "      <td>2.000000e+02</td>\n",
       "    </tr>\n",
       "    <tr>\n",
       "      <td>50%</td>\n",
       "      <td>5.500000e+02</td>\n",
       "    </tr>\n",
       "    <tr>\n",
       "      <td>75%</td>\n",
       "      <td>8.500000e+02</td>\n",
       "    </tr>\n",
       "    <tr>\n",
       "      <td>max</td>\n",
       "      <td>1.000000e+07</td>\n",
       "    </tr>\n",
       "  </tbody>\n",
       "</table>\n",
       "</div>"
      ],
      "text/plain": [
       "               data\n",
       "count  1.200000e+01\n",
       "mean   8.420425e+05\n",
       "std    2.884151e+06\n",
       "min    1.000000e+01\n",
       "25%    2.000000e+02\n",
       "50%    5.500000e+02\n",
       "75%    8.500000e+02\n",
       "max    1.000000e+07"
      ]
     },
     "execution_count": 281,
     "metadata": {},
     "output_type": "execute_result"
    }
   ],
   "source": [
    "df1.describe()"
   ]
  },
  {
   "cell_type": "markdown",
   "metadata": {},
   "source": [
    "As observed from above , mean doesnot lie within the range of the majority of the data, so it is not painting that picture that majority of the data shows, so its not the right measure of central tendency to use here.\n",
    "\n",
    "The reason for this is the presence of outliers , which is affecting the mean.\n",
    "\n",
    "\n",
    "Example (below) - if in a class , majority of the clas scored in the range 0-10 in an exam,they failed this test badly, but there are 4 students who have done exceptionally well and scored really high marks each, the mean is will be somewhere around 30s, which doesnot explain the real picture there"
   ]
  },
  {
   "cell_type": "code",
   "execution_count": 268,
   "metadata": {},
   "outputs": [],
   "source": [
    "marks = 3,2,1,5,3,2,8,1,9,0,9,0,7,0,0,100,100,98,95"
   ]
  },
  {
   "cell_type": "code",
   "execution_count": 269,
   "metadata": {},
   "outputs": [
    {
     "data": {
      "text/plain": [
       "<matplotlib.axes._subplots.AxesSubplot at 0x1a25ab9990>"
      ]
     },
     "execution_count": 269,
     "metadata": {},
     "output_type": "execute_result"
    },
    {
     "data": {
      "image/png": "[encoded data removed]",
      "text/plain": [
       "<Figure size 432x288 with 1 Axes>"
      ]
     },
     "metadata": {
      "needs_background": "light"
     },
     "output_type": "display_data"
    }
   ],
   "source": [
    "sns.distplot(marks)"
   ]
  },
  {
   "cell_type": "code",
   "execution_count": null,
   "metadata": {},
   "outputs": [],
   "source": [
    "se = pd.DataFrame(marks,columns=['marks'])"
   ]
  },
  {
   "cell_type": "code",
   "execution_count": 296,
   "metadata": {},
   "outputs": [
    {
     "data": {
      "text/plain": [
       "1.5249687581926785"
      ]
     },
     "execution_count": 296,
     "metadata": {},
     "output_type": "execute_result"
    }
   ],
   "source": [
    "se['marks'].skew()"
   ]
  },
  {
   "cell_type": "code",
   "execution_count": 270,
   "metadata": {},
   "outputs": [
    {
     "data": {
      "text/plain": [
       "23.31578947368421"
      ]
     },
     "execution_count": 270,
     "metadata": {},
     "output_type": "execute_result"
    }
   ],
   "source": [
    "np.mean(marks)"
   ]
  },
  {
   "cell_type": "markdown",
   "metadata": {},
   "source": [
    "In these cases when the mean is not doing a good job as a measure of central tendency we go for median."
   ]
  },
  {
   "cell_type": "markdown",
   "metadata": {},
   "source": [
    "### The above 2 questions will therefore take us to the question, When to use each measure of Central Tendency ?"
   ]
  },
  {
   "cell_type": "markdown",
   "metadata": {},
   "source": [
    "1. We got know that mean,median,mode each give us a measure of Central Tendency (i.e. where the center of our data falls)\n",
    "\n",
    "\n",
    "2. Centre here represents that position which has charecteristic that majority of our data has, which is why we have chosen that point as a centre to our data.\n",
    "\n",
    "\n",
    "Now often this \"single number\"(mean,median,mode) that represents \"our entire data\" , have different values , for the same situation."
   ]
  },
  {
   "cell_type": "markdown",
   "metadata": {},
   "source": [
    "Lets understand this by considering an example :-\n",
    "\n",
    "#### situation : we are trying to analyse and understand the data that has the number of hours civil services aspirants study in a day."
   ]
  },
  {
   "cell_type": "code",
   "execution_count": 283,
   "metadata": {},
   "outputs": [],
   "source": [
    "# lets say we collected data from 25 aspirants\n",
    "\n",
    "hours_of_study = [4,8,3,7,6,8,5,2,12,15,6,8,5,3,1,0,16,5,7,8,6,13,11,8,7]"
   ]
  },
  {
   "cell_type": "code",
   "execution_count": 284,
   "metadata": {},
   "outputs": [
    {
     "data": {
      "text/html": [
       "<div>\n",
       "<style scoped>\n",
       "    .dataframe tbody tr th:only-of-type {\n",
       "        vertical-align: middle;\n",
       "    }\n",
       "\n",
       "    .dataframe tbody tr th {\n",
       "        vertical-align: top;\n",
       "    }\n",
       "\n",
       "    .dataframe thead th {\n",
       "        text-align: right;\n",
       "    }\n",
       "</style>\n",
       "<table border=\"1\" class=\"dataframe\">\n",
       "  <thead>\n",
       "    <tr style=\"text-align: right;\">\n",
       "      <th></th>\n",
       "      <th>Study Time(in hrs)</th>\n",
       "    </tr>\n",
       "  </thead>\n",
       "  <tbody>\n",
       "    <tr>\n",
       "      <td>0</td>\n",
       "      <td>4</td>\n",
       "    </tr>\n",
       "    <tr>\n",
       "      <td>1</td>\n",
       "      <td>8</td>\n",
       "    </tr>\n",
       "    <tr>\n",
       "      <td>2</td>\n",
       "      <td>3</td>\n",
       "    </tr>\n",
       "    <tr>\n",
       "      <td>3</td>\n",
       "      <td>7</td>\n",
       "    </tr>\n",
       "    <tr>\n",
       "      <td>4</td>\n",
       "      <td>6</td>\n",
       "    </tr>\n",
       "  </tbody>\n",
       "</table>\n",
       "</div>"
      ],
      "text/plain": [
       "   Study Time(in hrs)\n",
       "0                   4\n",
       "1                   8\n",
       "2                   3\n",
       "3                   7\n",
       "4                   6"
      ]
     },
     "execution_count": 284,
     "metadata": {},
     "output_type": "execute_result"
    }
   ],
   "source": [
    "aspirants_data = pd.DataFrame(hours_of_study,columns=['Study Time(in hrs)'])\n",
    "aspirants_data.head()"
   ]
  },
  {
   "cell_type": "code",
   "execution_count": 287,
   "metadata": {},
   "outputs": [
    {
     "data": {
      "text/html": [
       "<div>\n",
       "<style scoped>\n",
       "    .dataframe tbody tr th:only-of-type {\n",
       "        vertical-align: middle;\n",
       "    }\n",
       "\n",
       "    .dataframe tbody tr th {\n",
       "        vertical-align: top;\n",
       "    }\n",
       "\n",
       "    .dataframe thead th {\n",
       "        text-align: right;\n",
       "    }\n",
       "</style>\n",
       "<table border=\"1\" class=\"dataframe\">\n",
       "  <thead>\n",
       "    <tr style=\"text-align: right;\">\n",
       "      <th></th>\n",
       "      <th>Study Time(in hrs)</th>\n",
       "    </tr>\n",
       "  </thead>\n",
       "  <tbody>\n",
       "    <tr>\n",
       "      <td>count</td>\n",
       "      <td>25.000000</td>\n",
       "    </tr>\n",
       "    <tr>\n",
       "      <td>mean</td>\n",
       "      <td>6.960000</td>\n",
       "    </tr>\n",
       "    <tr>\n",
       "      <td>std</td>\n",
       "      <td>4.046398</td>\n",
       "    </tr>\n",
       "    <tr>\n",
       "      <td>min</td>\n",
       "      <td>0.000000</td>\n",
       "    </tr>\n",
       "    <tr>\n",
       "      <td>25%</td>\n",
       "      <td>5.000000</td>\n",
       "    </tr>\n",
       "    <tr>\n",
       "      <td>50%</td>\n",
       "      <td>7.000000</td>\n",
       "    </tr>\n",
       "    <tr>\n",
       "      <td>75%</td>\n",
       "      <td>8.000000</td>\n",
       "    </tr>\n",
       "    <tr>\n",
       "      <td>max</td>\n",
       "      <td>16.000000</td>\n",
       "    </tr>\n",
       "  </tbody>\n",
       "</table>\n",
       "</div>"
      ],
      "text/plain": [
       "       Study Time(in hrs)\n",
       "count           25.000000\n",
       "mean             6.960000\n",
       "std              4.046398\n",
       "min              0.000000\n",
       "25%              5.000000\n",
       "50%              7.000000\n",
       "75%              8.000000\n",
       "max             16.000000"
      ]
     },
     "execution_count": 287,
     "metadata": {},
     "output_type": "execute_result"
    }
   ],
   "source": [
    "# let's see the charecteristics of these students\n",
    "aspirants_data.describe()"
   ]
  },
  {
   "cell_type": "code",
   "execution_count": 288,
   "metadata": {},
   "outputs": [
    {
     "data": {
      "text/plain": [
       "7.0"
      ]
     },
     "execution_count": 288,
     "metadata": {},
     "output_type": "execute_result"
    }
   ],
   "source": [
    "np.median(aspirants_data['Study Time(in hrs)'])"
   ]
  },
  {
   "cell_type": "code",
   "execution_count": 293,
   "metadata": {},
   "outputs": [
    {
     "data": {
      "text/plain": [
       "<matplotlib.axes._subplots.AxesSubplot at 0x1a261994d0>"
      ]
     },
     "execution_count": 293,
     "metadata": {},
     "output_type": "execute_result"
    },
    {
     "data": {
      "image/png": "[encoded data removed]",
      "text/plain": [
       "<Figure size 432x288 with 1 Axes>"
      ]
     },
     "metadata": {
      "needs_background": "light"
     },
     "output_type": "display_data"
    }
   ],
   "source": [
    "sns.countplot(aspirants_data['Study Time(in hrs)'])"
   ]
  },
  {
   "cell_type": "markdown",
   "metadata": {},
   "source": [
    "1. Majority of these students that we collected data from has their study time ranging from 5-8 hours\n",
    "2. If we want to represent the entire data with a single value rather than a range we will then go for these measures of central tendency.\n",
    "3. Considering the mean we can say that majority of the aspirants are studying 6.96 hours per day.\n",
    "4. The median tells , that majority of the aspirants are studying 7 hours a day\n",
    "5. The mode, tells that,  majority of the aspirants are studying 8 hours a day\n",
    "\n",
    "we are actually approximating the entire data and representing it using a single value"
   ]
  },
  {
   "cell_type": "markdown",
   "metadata": {},
   "source": [
    "Now , out of three values (6.96,7,8) which one should we finalize as the optimal value that best represents our data(keeping all the datapoints in mind)\n",
    "\n",
    "\n",
    "We therefore need to know , what are the situations in which we can use a measure of central tendency."
   ]
  },
  {
   "cell_type": "markdown",
   "metadata": {},
   "source": [
    "\n",
    "\n",
    "#### Determining which measure of central tendency to use depends on 2 things:-"
   ]
  },
  {
   "cell_type": "markdown",
   "metadata": {},
   "source": [
    "1. It depends upon the scale of measurement - nominal,ordinal,interval,ratio.\n",
    "\n",
    "   For instance - the mean is typically used with the interval or ratio level data\n",
    "   \n",
    "   \n",
    "2. our choice of measure of central tendency depends upon the shape of the distribution.If the data is highly skewed    or kurtotic we might prefer choosing a particular measure of central tendency, \n",
    "\n",
    "   like the example under Question 2 ,\n",
    "   mean is getting affected by outliers , so we use median there, to represent the entire data."
   ]
  },
  {
   "cell_type": "markdown",
   "metadata": {},
   "source": [
    "#### Indepth explaination of when to chose which measure of central tendency :-"
   ]
  },
  {
   "cell_type": "markdown",
   "metadata": {},
   "source": [
    "\n",
    "1.  Mean is the most frequently used measure of central tendency and generally considered the best measure of it.         However, there are some situations where either median or mode are preferred.\n",
    "\n",
    "\n",
    "2. Median is the preferred measure of central tendency when:\n",
    "   \n",
    "   A. There are a few extreme scores in the distribution of the data. (NOTE: Remember that a single outlier can have        a great effect on the mean). \n",
    "\n",
    "   B. There are some missing or undetermined values in your data.\n",
    " \n",
    "   C. There is an open ended distribution (For example, if you have a data field which measures number of children         and your options are 0,1,2,3,4,5 OR \"6 OR MORE\", then the \"6 OR MORE\" field is open ended and makes                   calculating the mean impossible, since we do not know exact values for this field).\n",
    "\n",
    "   D. You have data measured on an ordinal scale.\n",
    "\n",
    "\n",
    "3. Mode is the preferred measure when data are measured in a nominal ( and even sometimes ordinal) scale."
   ]
  },
  {
   "cell_type": "markdown",
   "metadata": {},
   "source": [
    "#### UNDERSTANDING MEDIAN :-"
   ]
  },
  {
   "cell_type": "code",
   "execution_count": 189,
   "metadata": {},
   "outputs": [],
   "source": [
    "li1 = [1,2,4,5,5,5,34,55,66,77,88]\n",
    "li2 = [1,2,4,5,5,7,7,7,66,77,88]\n",
    "li3 = [1,2,3,4,5,6,34,55,66,77,88]\n",
    "li4 = [5,5,5,5,5,5,5]\n",
    "li5 = [0,1,-1,4,-8,-9,0]"
   ]
  },
  {
   "cell_type": "code",
   "execution_count": 222,
   "metadata": {},
   "outputs": [
    {
     "name": "stderr",
     "output_type": "stream",
     "text": [
      "/Applications/anaconda3/lib/python3.7/site-packages/statsmodels/nonparametric/kde.py:487: RuntimeWarning: invalid value encountered in true_divide\n",
      "  binned = fast_linbin(X, a, b, gridsize) / (delta * nobs)\n",
      "/Applications/anaconda3/lib/python3.7/site-packages/statsmodels/nonparametric/kdetools.py:34: RuntimeWarning: invalid value encountered in double_scalars\n",
      "  FAC1 = 2*(np.pi*bw/RANGE)**2\n"
     ]
    },
    {
     "data": {
      "text/plain": [
       "<matplotlib.axes._subplots.AxesSubplot at 0x1a24848b50>"
      ]
     },
     "execution_count": 222,
     "metadata": {},
     "output_type": "execute_result"
    },
    {
     "data": {
      "image/png": "[encoded data removed]",
      "text/plain": [
       "<Figure size 1080x504 with 6 Axes>"
      ]
     },
     "metadata": {
      "needs_background": "light"
     },
     "output_type": "display_data"
    }
   ],
   "source": [
    "fig,axes = plt.subplots(2,3,figsize=(15,7))\n",
    "sns.distplot(li1,ax=axes[0][0])\n",
    "sns.distplot(li2,ax=axes[0][1])\n",
    "sns.distplot(li3,ax=axes[0][2])\n",
    "sns.distplot(li4,ax=axes[1][0])\n",
    "sns.distplot(li5,ax=axes[1][1])\n"
   ]
  },
  {
   "cell_type": "code",
   "execution_count": 190,
   "metadata": {},
   "outputs": [
    {
     "data": {
      "text/plain": [
       "(5.0, 7.0, 6.0, 5.0, 0.0)"
      ]
     },
     "execution_count": 190,
     "metadata": {},
     "output_type": "execute_result"
    }
   ],
   "source": [
    "np.median(li1),np.median(li2),np.median(li3),np.median(li4),np.median(li5)"
   ]
  },
  {
   "cell_type": "markdown",
   "metadata": {},
   "source": [
    "In a list of values , median indicates the middle value, this can be interpreted as :-\n",
    "\n",
    "1. The values before the median are either less than or equal to it.\n",
    "2. The values after the median are either greater than or equal to it."
   ]
  },
  {
   "cell_type": "markdown",
   "metadata": {},
   "source": [
    "### Understanding Mode :-"
   ]
  },
  {
   "cell_type": "markdown",
   "metadata": {},
   "source": [
    "#### What is a mode in a continuous distribution?"
   ]
  },
  {
   "cell_type": "code",
   "execution_count": 317,
   "metadata": {},
   "outputs": [],
   "source": [
    "data = np.random.randint(15,size=(50,))\n"
   ]
  },
  {
   "cell_type": "code",
   "execution_count": 318,
   "metadata": {},
   "outputs": [
    {
     "data": {
      "text/plain": [
       "<matplotlib.axes._subplots.AxesSubplot at 0x1a23d9eb90>"
      ]
     },
     "execution_count": 318,
     "metadata": {},
     "output_type": "execute_result"
    },
    {
     "data": {
      "image/png": "[encoded data removed]",
      "text/plain": [
       "<Figure size 432x288 with 1 Axes>"
      ]
     },
     "metadata": {
      "needs_background": "light"
     },
     "output_type": "display_data"
    }
   ],
   "source": [
    "sns.distplot(data)"
   ]
  },
  {
   "cell_type": "markdown",
   "metadata": {},
   "source": [
    "Mode in a continuous distribution is the most frequently occured area or range, not a particular value, because in the continuous distribution the probability of occurence of a point is zero, there's no particular value that represents the peak in the distribution.\n",
    "\n",
    "\n",
    "We will rather consider an interval around that peak and would say that most of the points in the data set belong to that range , so the probability that a value of a random variable belong to that interval is the highest."
   ]
  },
  {
   "cell_type": "markdown",
   "metadata": {},
   "source": [
    "### Benifits of Central Tendency"
   ]
  },
  {
   "cell_type": "markdown",
   "metadata": {},
   "source": [
    "1. Measures of central tendency offer the benifit of simplification.The whole sample of raw data is difficult to understand,a measure of central tendency gives us a single number that represents the entire dataset.\n",
    "\n",
    "\n",
    "2. Central tendency also has the benifit of prediction.Knowing a measure of central tendency can help us predict other scores or estimate future needs, even if this measure of central tendency is not in the actual dataset.\n",
    "\n",
    "   For example : If an average family has 2.3 children, lets say our city is projected to grow by 1000 families,in      the next 5 years, how many new classroom seats will we need in public shools(if the situation is related to the      US).Although no family who moves to the town has literally 2.3 children, that average is very useful for              predicting how many children will be entering the school system."
   ]
  },
  {
   "cell_type": "code",
   "execution_count": null,
   "metadata": {},
   "outputs": [],
   "source": []
  },
  {
   "cell_type": "code",
   "execution_count": null,
   "metadata": {},
   "outputs": [],
   "source": []
  }
 ],
 "metadata": {
  "kernelspec": {
   "display_name": "Python 3",
   "language": "python",
   "name": "python3"
  },
  "language_info": {
   "codemirror_mode": {
    "name": "ipython",
    "version": 3
   },
   "file_extension": ".py",
   "mimetype": "text/x-python",
   "name": "python",
   "nbconvert_exporter": "python",
   "pygments_lexer": "ipython3",
   "version": "3.7.4"
  }
 },
 "nbformat": 4,
 "nbformat_minor": 2
}
